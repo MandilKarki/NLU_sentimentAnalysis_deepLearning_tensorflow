{
  "nbformat": 4,
  "nbformat_minor": 0,
  "metadata": {
    "colab": {
      "name": "Untitled11.ipynb",
      "provenance": [],
      "authorship_tag": "ABX9TyNnt9tell5G6im+MYOvC4HH",
      "include_colab_link": true
    },
    "kernelspec": {
      "name": "python3",
      "display_name": "Python 3"
    }
  },
  "cells": [
    {
      "cell_type": "markdown",
      "metadata": {
        "id": "view-in-github",
        "colab_type": "text"
      },
      "source": [
        "<a href=\"https://colab.research.google.com/github/MandilKarki/NLU_sentimentAnalysis_deepLearning_tensorflow/blob/main/Untitled11.ipynb\" target=\"_parent\"><img src=\"https://colab.research.google.com/assets/colab-badge.svg\" alt=\"Open In Colab\"/></a>"
      ]
    },
    {
      "cell_type": "code",
      "metadata": {
        "id": "iFUryZaD8Dm_"
      },
      "source": [
        "#import the dependencies\r\n",
        "import json\r\n",
        "import tensorflow as tf\r\n",
        "\r\n",
        "from tensorflow.keras.preprocessing.text import Tokenizer\r\n",
        "from tensorflow.keras.preprocessing.sequence import pad_sequences"
      ],
      "execution_count": 16,
      "outputs": []
    },
    {
      "cell_type": "code",
      "metadata": {
        "id": "5xoL13ip8FnT"
      },
      "source": [
        "#assign the parameters\r\n",
        "vocab_size = 10000\r\n",
        "embedding_dim = 16\r\n",
        "max_length = 100\r\n",
        "trunc_type='post'\r\n",
        "padding_type='post'\r\n",
        "oov_tok = \"<OOV>\"\r\n",
        "training_size = 20000"
      ],
      "execution_count": 17,
      "outputs": []
    },
    {
      "cell_type": "code",
      "metadata": {
        "colab": {
          "base_uri": "https://localhost:8080/"
        },
        "id": "B-7I9RE78ICA",
        "outputId": "f28b700e-b03f-413f-8359-b21999bb7fe7"
      },
      "source": [
        "!wget --no-check-certificate \\\r\n",
        "    https://storage.googleapis.com/laurencemoroney-blog.appspot.com/sarcasm.json \\\r\n",
        "    -O /tmp/sarcasm.json"
      ],
      "execution_count": 18,
      "outputs": [
        {
          "output_type": "stream",
          "text": [
            "--2020-12-19 02:31:39--  https://storage.googleapis.com/laurencemoroney-blog.appspot.com/sarcasm.json\n",
            "Resolving storage.googleapis.com (storage.googleapis.com)... 173.194.211.128, 173.194.215.128, 173.194.216.128, ...\n",
            "Connecting to storage.googleapis.com (storage.googleapis.com)|173.194.211.128|:443... connected.\n",
            "HTTP request sent, awaiting response... 200 OK\n",
            "Length: 5643545 (5.4M) [application/json]\n",
            "Saving to: ‘/tmp/sarcasm.json’\n",
            "\n",
            "\r/tmp/sarcasm.json     0%[                    ]       0  --.-KB/s               \r/tmp/sarcasm.json   100%[===================>]   5.38M  --.-KB/s    in 0.02s   \n",
            "\n",
            "2020-12-19 02:31:39 (242 MB/s) - ‘/tmp/sarcasm.json’ saved [5643545/5643545]\n",
            "\n"
          ],
          "name": "stdout"
        }
      ]
    },
    {
      "cell_type": "code",
      "metadata": {
        "id": "nQuO1da88K_i"
      },
      "source": [
        "#load the dataset\r\n",
        "with open(\"/tmp/sarcasm.json\", 'r') as f:\r\n",
        "    datastore = json.load(f)\r\n",
        "\r\n",
        "sentences = []\r\n",
        "labels = []\r\n",
        "\r\n",
        "for item in datastore:\r\n",
        "    sentences.append(item['headline'])\r\n",
        "    labels.append(item['is_sarcastic'])"
      ],
      "execution_count": 19,
      "outputs": []
    },
    {
      "cell_type": "code",
      "metadata": {
        "id": "JnqCqTsH8ON3"
      },
      "source": [
        "#split the dataset into training and testing sequence\r\n",
        "training_sentences = sentences[0:training_size]\r\n",
        "testing_sentences = sentences[training_size:]\r\n",
        "training_labels = labels[0:training_size]\r\n",
        "testing_labels = labels[training_size:]"
      ],
      "execution_count": 20,
      "outputs": []
    },
    {
      "cell_type": "code",
      "metadata": {
        "id": "vfuRFxe78Q0X"
      },
      "source": [
        "#tokenize and sequence the texts in the training and test set with padding\r\n",
        "tokenizer = Tokenizer(num_words=vocab_size, oov_token=oov_tok)\r\n",
        "tokenizer.fit_on_texts(training_sentences)\r\n",
        "\r\n",
        "word_index = tokenizer.word_index\r\n",
        "\r\n",
        "training_sequences = tokenizer.texts_to_sequences(training_sentences)\r\n",
        "training_padded = pad_sequences(training_sequences, maxlen=max_length, padding=padding_type, truncating=trunc_type)\r\n",
        "\r\n",
        "testing_sequences = tokenizer.texts_to_sequences(testing_sentences)\r\n",
        "testing_padded = pad_sequences(testing_sequences, maxlen=max_length, padding=padding_type, truncating=trunc_type)"
      ],
      "execution_count": 21,
      "outputs": []
    },
    {
      "cell_type": "code",
      "metadata": {
        "id": "1kfuhsYR8WUK"
      },
      "source": [
        "# Need this block to get it to work with TensorFlow 2.x\r\n",
        "import numpy as np\r\n",
        "training_padded = np.array(training_padded)\r\n",
        "training_labels = np.array(training_labels)\r\n",
        "testing_padded = np.array(testing_padded)\r\n",
        "testing_labels = np.array(testing_labels)"
      ],
      "execution_count": 22,
      "outputs": []
    },
    {
      "cell_type": "code",
      "metadata": {
        "id": "RSLaCrWi8ZbE"
      },
      "source": [
        "#design the neural network\r\n",
        "model = tf.keras.Sequential([\r\n",
        "    tf.keras.layers.Embedding(vocab_size, embedding_dim, input_length=max_length),\r\n",
        "    tf.keras.layers.GlobalAveragePooling1D(),\r\n",
        "    tf.keras.layers.Dense(24, activation='relu'),\r\n",
        "    tf.keras.layers.Dense(1, activation='sigmoid')\r\n",
        "])\r\n",
        "model.compile(loss='binary_crossentropy',optimizer='adam',metrics=['accuracy'])"
      ],
      "execution_count": 23,
      "outputs": []
    },
    {
      "cell_type": "code",
      "metadata": {
        "colab": {
          "base_uri": "https://localhost:8080/"
        },
        "id": "EsPl4C1v8dxs",
        "outputId": "707f6078-19bc-44a9-d9a6-99f30c573e8a"
      },
      "source": [
        "model.summary()"
      ],
      "execution_count": 24,
      "outputs": [
        {
          "output_type": "stream",
          "text": [
            "Model: \"sequential_1\"\n",
            "_________________________________________________________________\n",
            "Layer (type)                 Output Shape              Param #   \n",
            "=================================================================\n",
            "embedding_1 (Embedding)      (None, 100, 16)           160000    \n",
            "_________________________________________________________________\n",
            "global_average_pooling1d_1 ( (None, 16)                0         \n",
            "_________________________________________________________________\n",
            "dense_2 (Dense)              (None, 24)                408       \n",
            "_________________________________________________________________\n",
            "dense_3 (Dense)              (None, 1)                 25        \n",
            "=================================================================\n",
            "Total params: 160,433\n",
            "Trainable params: 160,433\n",
            "Non-trainable params: 0\n",
            "_________________________________________________________________\n"
          ],
          "name": "stdout"
        }
      ]
    },
    {
      "cell_type": "code",
      "metadata": {
        "colab": {
          "base_uri": "https://localhost:8080/"
        },
        "id": "5YbwiG8N8gsJ",
        "outputId": "f1c25259-4bd2-44d0-ae76-742e91e7ce8a"
      },
      "source": [
        "#train the neural network\r\n",
        "num_epochs = 30\r\n",
        "history = model.fit(training_padded, training_labels, epochs=num_epochs, validation_data=(testing_padded, testing_labels), verbose=2)"
      ],
      "execution_count": 25,
      "outputs": [
        {
          "output_type": "stream",
          "text": [
            "Epoch 1/30\n",
            "625/625 - 2s - loss: 0.6755 - accuracy: 0.5641 - val_loss: 0.6312 - val_accuracy: 0.6745\n",
            "Epoch 2/30\n",
            "625/625 - 2s - loss: 0.4849 - accuracy: 0.7975 - val_loss: 0.4049 - val_accuracy: 0.8325\n",
            "Epoch 3/30\n",
            "625/625 - 2s - loss: 0.3283 - accuracy: 0.8712 - val_loss: 0.3626 - val_accuracy: 0.8472\n",
            "Epoch 4/30\n",
            "625/625 - 2s - loss: 0.2721 - accuracy: 0.8939 - val_loss: 0.3557 - val_accuracy: 0.8445\n",
            "Epoch 5/30\n",
            "625/625 - 2s - loss: 0.2359 - accuracy: 0.9100 - val_loss: 0.3457 - val_accuracy: 0.8585\n",
            "Epoch 6/30\n",
            "625/625 - 2s - loss: 0.2086 - accuracy: 0.9197 - val_loss: 0.3495 - val_accuracy: 0.8556\n",
            "Epoch 7/30\n",
            "625/625 - 2s - loss: 0.1852 - accuracy: 0.9308 - val_loss: 0.3548 - val_accuracy: 0.8560\n",
            "Epoch 8/30\n",
            "625/625 - 2s - loss: 0.1675 - accuracy: 0.9383 - val_loss: 0.3648 - val_accuracy: 0.8557\n",
            "Epoch 9/30\n",
            "625/625 - 2s - loss: 0.1517 - accuracy: 0.9451 - val_loss: 0.3806 - val_accuracy: 0.8536\n",
            "Epoch 10/30\n",
            "625/625 - 2s - loss: 0.1382 - accuracy: 0.9508 - val_loss: 0.4020 - val_accuracy: 0.8471\n",
            "Epoch 11/30\n",
            "625/625 - 2s - loss: 0.1257 - accuracy: 0.9557 - val_loss: 0.4160 - val_accuracy: 0.8498\n",
            "Epoch 12/30\n",
            "625/625 - 2s - loss: 0.1161 - accuracy: 0.9604 - val_loss: 0.4460 - val_accuracy: 0.8438\n",
            "Epoch 13/30\n",
            "625/625 - 2s - loss: 0.1061 - accuracy: 0.9636 - val_loss: 0.4558 - val_accuracy: 0.8469\n",
            "Epoch 14/30\n",
            "625/625 - 2s - loss: 0.0971 - accuracy: 0.9679 - val_loss: 0.4822 - val_accuracy: 0.8439\n",
            "Epoch 15/30\n",
            "625/625 - 2s - loss: 0.0915 - accuracy: 0.9690 - val_loss: 0.5101 - val_accuracy: 0.8407\n",
            "Epoch 16/30\n",
            "625/625 - 2s - loss: 0.0831 - accuracy: 0.9733 - val_loss: 0.5268 - val_accuracy: 0.8389\n",
            "Epoch 17/30\n",
            "625/625 - 2s - loss: 0.0783 - accuracy: 0.9747 - val_loss: 0.5570 - val_accuracy: 0.8375\n",
            "Epoch 18/30\n",
            "625/625 - 2s - loss: 0.0707 - accuracy: 0.9780 - val_loss: 0.5776 - val_accuracy: 0.8354\n",
            "Epoch 19/30\n",
            "625/625 - 2s - loss: 0.0678 - accuracy: 0.9782 - val_loss: 0.6258 - val_accuracy: 0.8329\n",
            "Epoch 20/30\n",
            "625/625 - 2s - loss: 0.0629 - accuracy: 0.9807 - val_loss: 0.6407 - val_accuracy: 0.8271\n",
            "Epoch 21/30\n",
            "625/625 - 2s - loss: 0.0571 - accuracy: 0.9826 - val_loss: 0.6879 - val_accuracy: 0.8280\n",
            "Epoch 22/30\n",
            "625/625 - 2s - loss: 0.0534 - accuracy: 0.9836 - val_loss: 0.7012 - val_accuracy: 0.8281\n",
            "Epoch 23/30\n",
            "625/625 - 2s - loss: 0.0487 - accuracy: 0.9857 - val_loss: 0.7264 - val_accuracy: 0.8255\n",
            "Epoch 24/30\n",
            "625/625 - 2s - loss: 0.0452 - accuracy: 0.9872 - val_loss: 0.7822 - val_accuracy: 0.8240\n",
            "Epoch 25/30\n",
            "625/625 - 2s - loss: 0.0426 - accuracy: 0.9874 - val_loss: 0.8168 - val_accuracy: 0.8229\n",
            "Epoch 26/30\n",
            "625/625 - 2s - loss: 0.0387 - accuracy: 0.9890 - val_loss: 0.9298 - val_accuracy: 0.8168\n",
            "Epoch 27/30\n",
            "625/625 - 2s - loss: 0.0375 - accuracy: 0.9886 - val_loss: 0.8573 - val_accuracy: 0.8173\n",
            "Epoch 28/30\n",
            "625/625 - 2s - loss: 0.0328 - accuracy: 0.9918 - val_loss: 0.9229 - val_accuracy: 0.8177\n",
            "Epoch 29/30\n",
            "625/625 - 2s - loss: 0.0312 - accuracy: 0.9915 - val_loss: 0.9380 - val_accuracy: 0.8182\n",
            "Epoch 30/30\n",
            "625/625 - 2s - loss: 0.0298 - accuracy: 0.9918 - val_loss: 1.0455 - val_accuracy: 0.8149\n"
          ],
          "name": "stdout"
        }
      ]
    },
    {
      "cell_type": "code",
      "metadata": {
        "colab": {
          "base_uri": "https://localhost:8080/",
          "height": 541
        },
        "id": "PuBtf26NuwJv",
        "outputId": "ee770619-9b31-454d-e235-2526058d3f76"
      },
      "source": [
        "#plot the graph for acuuracy\r\n",
        "import matplotlib.pyplot as plt\r\n",
        "\r\n",
        "\r\n",
        "def plot_graphs(history, string):\r\n",
        "  plt.plot(history.history[string])\r\n",
        "  plt.plot(history.history['val_'+string])\r\n",
        "  plt.xlabel(\"Epochs\")\r\n",
        "  plt.ylabel(string)\r\n",
        "  plt.legend([string, 'val_'+string])\r\n",
        "  plt.show()\r\n",
        "  \r\n",
        "plot_graphs(history, \"accuracy\")\r\n",
        "plot_graphs(history, \"loss\")"
      ],
      "execution_count": 26,
      "outputs": [
        {
          "output_type": "display_data",
          "data": {
            "image/png": "[encoded data removed]",
            "text/plain": [
              "<Figure size 432x288 with 1 Axes>"
            ]
          },
          "metadata": {
            "tags": [],
            "needs_background": "light"
          }
        },
        {
          "output_type": "display_data",
          "data": {
            "image/png": "[encoded data removed]",
            "text/plain": [
              "<Figure size 432x288 with 1 Axes>"
            ]
          },
          "metadata": {
            "tags": [],
            "needs_background": "light"
          }
        }
      ]
    },
    {
      "cell_type": "code",
      "metadata": {
        "colab": {
          "base_uri": "https://localhost:8080/"
        },
        "id": "VEM5F_APzRKi",
        "outputId": "4de6d462-d3d7-4339-ae02-250f426ef574"
      },
      "source": [
        "#test our model\r\n",
        "sentence = [\"Mandil is a sincere ,talented,focused,natural language processing wizard\",\"granny starting to fear spiders in the garden might be real\", \"game of thrones season finale showing this sunday night\",]\r\n",
        "sequences = tokenizer.texts_to_sequences(sentence)\r\n",
        "padded = pad_sequences(sequences, maxlen=max_length, padding=padding_type, truncating=trunc_type)\r\n",
        "print(model.predict(padded))"
      ],
      "execution_count": 27,
      "outputs": [
        {
          "output_type": "stream",
          "text": [
            "[[1.3969010e-01]\n",
            " [6.2589025e-01]\n",
            " [7.8798430e-06]]\n"
          ],
          "name": "stdout"
        }
      ]
    },
    {
      "cell_type": "code",
      "metadata": {
        "id": "KUpfzaUSz5di"
      },
      "source": [
        ""
      ],
      "execution_count": 27,
      "outputs": []
    }
  ]
}